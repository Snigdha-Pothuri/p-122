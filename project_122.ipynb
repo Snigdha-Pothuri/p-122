{
  "nbformat": 4,
  "nbformat_minor": 0,
  "metadata": {
    "colab": {
      "name": "project-122.ipynb",
      "provenance": [],
      "authorship_tag": "ABX9TyM6/RJD5BUMiXxU8YPYLYUy",
      "include_colab_link": true
    },
    "kernelspec": {
      "name": "python3",
      "display_name": "Python 3"
    },
    "language_info": {
      "name": "python"
    }
  },
  "cells": [
    {
      "cell_type": "markdown",
      "metadata": {
        "id": "view-in-github",
        "colab_type": "text"
      },
      "source": [
        "<a href=\"https://colab.research.google.com/github/Snigdha-Pothuri/p-122/blob/main/project_122.ipynb\" target=\"_parent\"><img src=\"https://colab.research.google.com/assets/colab-badge.svg\" alt=\"Open In Colab\"/></a>"
      ]
    },
    {
      "cell_type": "code",
      "metadata": {
        "id": "X5rIcw5J93d9"
      },
      "source": [
        "import pandas as pd\n",
        "import numpy as np\n",
        "import matplotlib.pyplot as plt\n",
        "from sklearn.datasets import fetch_openml\n",
        "from sklearn.model_selection import train_test_split\n",
        "from sklearn.linear_model import LogisticRegression\n",
        "from sklearn.metrics import accuracy_score"
      ],
      "execution_count": 3,
      "outputs": []
    },
    {
      "cell_type": "code",
      "metadata": {
        "colab": {
          "base_uri": "https://localhost:8080/"
        },
        "id": "BNuOncDq-qfj",
        "outputId": "73fb05c0-a3ce-4056-a098-a45b1d5a7eef"
      },
      "source": [
        "X=np.load('image.npz')[\"arr_0\"]\n",
        "y=pd.read_csv(\"labels.csv\")[\"labels\"]\n",
        "classes=[\"A\",\"B\",\"C\",\"D\",\"E\",\"F\",\"G\",\"H\",\"I\",\"J\",\"K\",\"L\",\"M\",\"N\",\"O\",\"P\",\"Q\",\"R\",\"S\",\"T\",\"U\",\"V\",\"W\",\"X\",\"Y\",\"Z\"]\n",
        "nclasses=len(classes)\n",
        "print(X)\n",
        "print(nclasses)"
      ],
      "execution_count": 4,
      "outputs": [
        {
          "output_type": "stream",
          "text": [
            "[[0. 0. 0. ... 0. 0. 0.]\n",
            " [0. 0. 0. ... 0. 0. 0.]\n",
            " [0. 0. 0. ... 0. 0. 0.]\n",
            " ...\n",
            " [0. 0. 0. ... 0. 0. 0.]\n",
            " [0. 0. 0. ... 0. 0. 0.]\n",
            " [0. 0. 0. ... 0. 0. 0.]]\n",
            "26\n"
          ],
          "name": "stdout"
        }
      ]
    },
    {
      "cell_type": "code",
      "metadata": {
        "colab": {
          "base_uri": "https://localhost:8080/",
          "height": 1000
        },
        "id": "cOosp-P0AwI9",
        "outputId": "552d1875-5cf2-4fe9-a7ad-5e9fff4bd84c"
      },
      "source": [
        "import seaborn as sns\n",
        "sample_per_class=5\n",
        "figure=plt.figure(figsize=(20,11))\n",
        "idx_cls=0\n",
        "for i in classes:\n",
        "  idxs=np.flatnonzero(y==i)\n",
        "  idxs=np.random.choice(idxs,sample_per_class,replace=False)\n",
        "  j=0\n",
        "  for k in idxs:\n",
        "    plt_index=j*nclasses+idx_cls+1\n",
        "    print(plt_index)\n",
        "    p=plt.subplot(sample_per_class,nclasses,plt_index)\n",
        "    p=sns.heatmap(np.reshape(X[k],(22,30)),cmap=plt.cm.gray,cbar=False)\n",
        "    p=plt.axis(\"off\")\n",
        "    j=j+1\n",
        "  idx_cls=idx_cls+1"
      ],
      "execution_count": 6,
      "outputs": [
        {
          "output_type": "stream",
          "text": [
            "1\n",
            "27\n",
            "53\n",
            "79\n",
            "105\n",
            "2\n",
            "28\n",
            "54\n",
            "80\n",
            "106\n",
            "3\n",
            "29\n",
            "55\n",
            "81\n",
            "107\n",
            "4\n",
            "30\n",
            "56\n",
            "82\n",
            "108\n",
            "5\n",
            "31\n",
            "57\n",
            "83\n",
            "109\n",
            "6\n",
            "32\n",
            "58\n",
            "84\n",
            "110\n",
            "7\n",
            "33\n",
            "59\n",
            "85\n",
            "111\n",
            "8\n",
            "34\n",
            "60\n",
            "86\n",
            "112\n",
            "9\n",
            "35\n",
            "61\n",
            "87\n",
            "113\n",
            "10\n",
            "36\n",
            "62\n",
            "88\n",
            "114\n",
            "11\n",
            "37\n",
            "63\n",
            "89\n",
            "115\n",
            "12\n",
            "38\n",
            "64\n",
            "90\n",
            "116\n",
            "13\n",
            "39\n",
            "65\n",
            "91\n",
            "117\n",
            "14\n",
            "40\n",
            "66\n",
            "92\n",
            "118\n",
            "15\n",
            "41\n",
            "67\n",
            "93\n",
            "119\n",
            "16\n",
            "42\n",
            "68\n",
            "94\n",
            "120\n",
            "17\n",
            "43\n",
            "69\n",
            "95\n",
            "121\n",
            "18\n",
            "44\n",
            "70\n",
            "96\n",
            "122\n",
            "19\n",
            "45\n",
            "71\n",
            "97\n",
            "123\n",
            "20\n",
            "46\n",
            "72\n",
            "98\n",
            "124\n",
            "21\n",
            "47\n",
            "73\n",
            "99\n",
            "125\n",
            "22\n",
            "48\n",
            "74\n",
            "100\n",
            "126\n",
            "23\n",
            "49\n",
            "75\n",
            "101\n",
            "127\n",
            "24\n",
            "50\n",
            "76\n",
            "102\n",
            "128\n",
            "25\n",
            "51\n",
            "77\n",
            "103\n",
            "129\n",
            "26\n",
            "52\n",
            "78\n",
            "104\n",
            "130\n"
          ],
          "name": "stdout"
        },
        {
          "output_type": "display_data",
          "data": {
            "image/png": "[encoded data removed]",
            "text/plain": [
              "<Figure size 1440x792 with 130 Axes>"
            ]
          },
          "metadata": {
            "tags": [],
            "needs_background": "light"
          }
        }
      ]
    },
    {
      "cell_type": "code",
      "metadata": {
        "colab": {
          "base_uri": "https://localhost:8080/"
        },
        "id": "9kRgLFtWBrGg",
        "outputId": "80c47745-53cd-48f5-e17d-1300f4332490"
      },
      "source": [
        "print(X[0])\n",
        "print(y[0])"
      ],
      "execution_count": null,
      "outputs": [
        {
          "output_type": "stream",
          "text": [
            "[  0.   0.   0.   0.   0.   0.   0.   0.   0.   0.   0.   0.   0.   0.\n",
            "   0.   0.   0.   0.   0.   0.   0.   0.   0.   0.   0.   0.   0.   0.\n",
            "   0.   0.   0.   0.   0.   0.   0.   0.   0.   0.   0.   0.   0.   0.\n",
            "   0.   0.   0.   0.   0.   0.   0.   0.   0.   0.   0.   0.   0.   0.\n",
            "   0.   0.   0.   0.   0.   0.   0.   0.   0.   0.   0.   0.   0.   0.\n",
            "   0.   0.   0.   0.   0.   0.   0.   0.   0.   0.   0.   0.   0.   0.\n",
            "   0.   0.   0.   0.   0.   0.   0.   0.   0.   0.   0.   0.   0.   0.\n",
            "   0.   0.   0.   0.   0.   0.   0.   0.   0.   0.   0.   0.   0.   0.\n",
            "   0.   0.   0.   0.   0.   0.   0.   0.   0.   0.   0.   0.   0.   0.\n",
            "   0.   0.   0.   0.   0. 255. 255. 255. 255. 255. 255. 255. 255.   0.\n",
            "   0.   0.   0.   0.   0.   0.   0.   0.   0.   0.   0.   0.   0.   0.\n",
            "   0.   0.   0.   0.   0.   0. 255. 255. 255. 255. 255. 255. 255. 255.\n",
            " 255.   0.   0.   0.   0.   0.   0.   0.   0.   0.   0.   0.   0.   0.\n",
            "   0.   0.   0.   0.   0.   0.   0.   0. 255. 255.   0.   0.   0.   0.\n",
            "   0.   0.   0.   0.   0.   0.   0.   0.   0.   0.   0.   0.   0.   0.\n",
            "   0.   0.   0.   0.   0.   0.   0.   0.   0.   0. 255.   0.   0.   0.\n",
            "   0.   0.   0.   0.   0.   0.   0.   0.   0.   0.   0.   0.   0.   0.\n",
            "   0.   0.   0.   0.   0.   0.   0.   0.   0.   0.   0.   0. 255.   0.\n",
            "   0.   0.   0.   0.   0.   0.   0.   0.   0.   0.   0.   0.   0.   0.\n",
            "   0.   0.   0.   0.   0.   0.   0.   0.   0.   0.   0.   0.   0.   0.\n",
            " 255. 255. 255. 255.   0.   0.   0.   0.   0.   0.   0.   0.   0.   0.\n",
            "   0.   0.   0.   0.   0.   0.   0.   0.   0.   0.   0.   0.   0.   0.\n",
            "   0. 255. 255. 255. 255. 255.   0.   0.   0.   0.   0.   0.   0.   0.\n",
            "   0.   0.   0.   0.   0.   0.   0.   0.   0.   0.   0.   0.   0.   0.\n",
            "   0.   0.   0. 255. 255.   0.   0.   0.   0.   0.   0.   0.   0.   0.\n",
            "   0.   0.   0.   0.   0.   0.   0.   0.   0.   0.   0.   0.   0.   0.\n",
            "   0.   0.   0.   0.   0. 255. 255.   0.   0.   0.   0.   0.   0.   0.\n",
            "   0.   0.   0.   0.   0.   0.   0.   0.   0.   0.   0.   0.   0.   0.\n",
            "   0.   0.   0.   0.   0.   0.   0. 255. 255.   0.   0.   0.   0.   0.\n",
            "   0.   0.   0.   0.   0.   0.   0.   0.   0.   0.   0.   0.   0.   0.\n",
            "   0.   0.   0.   0.   0.   0.   0.   0.   0. 255. 255.   0.   0.   0.\n",
            "   0.   0.   0.   0.   0.   0.   0.   0.   0.   0.   0.   0.   0.   0.\n",
            "   0.   0.   0.   0.   0.   0.   0.   0.   0.   0.   0. 255. 255.   0.\n",
            "   0.   0.   0.   0.   0.   0.   0.   0.   0.   0.   0.   0.   0.   0.\n",
            "   0.   0.   0.   0.   0.   0.   0.   0.   0.   0.   0.   0.   0.   0.\n",
            "   0.   0.   0.   0.   0.   0.   0.   0.   0.   0.   0.   0.   0.   0.\n",
            "   0.   0.   0.   0.   0.   0.   0.   0.   0.   0.   0.   0.   0.   0.\n",
            "   0.   0.   0.   0.   0.   0.   0.   0.   0.   0.   0.   0.   0.   0.\n",
            "   0.   0.   0.   0.   0.   0.   0.   0.   0.   0.   0.   0.   0.   0.\n",
            "   0.   0.   0.   0.   0.   0.   0.   0.   0.   0.   0.   0.   0.   0.\n",
            "   0.   0.   0.   0.   0.   0.   0.   0.   0.   0.   0.   0.   0.   0.\n",
            "   0.   0.   0.   0.   0.   0.   0.   0.   0.   0.   0.   0.   0.   0.\n",
            "   0.   0.   0.   0.   0.   0.   0.   0.   0.   0.   0.   0.   0.   0.\n",
            "   0.   0.   0.   0.   0.   0.   0.   0.   0.   0.   0.   0.   0.   0.\n",
            "   0.   0.   0.   0.   0.   0.   0.   0.   0.   0.   0.   0.   0.   0.\n",
            "   0.   0.   0.   0.   0.   0.   0.   0.   0.   0.   0.   0.   0.   0.\n",
            "   0.   0.   0.   0.   0.   0.   0.   0.   0.   0.   0.   0.   0.   0.\n",
            "   0.   0.]\n",
            "F\n"
          ],
          "name": "stdout"
        }
      ]
    },
    {
      "cell_type": "code",
      "metadata": {
        "colab": {
          "base_uri": "https://localhost:8080/"
        },
        "id": "gXbA5JaMBwuL",
        "outputId": "b73e8797-84c8-4621-ff49-f236ee04b903"
      },
      "source": [
        "Xtrain,Xtest,Ytrain,Ytest=train_test_split(X,y,random_state=9,train_size=7500,test_size=2500)\n",
        "Xtrainscaled=Xtrain/255.0\n",
        "Xtestscaled=Xtest/255.0\n",
        "clf=LogisticRegression(solver=\"saga\",multi_class=\"multinomial\").fit(Xtrainscaled,Ytrain)"
      ],
      "execution_count": 12,
      "outputs": [
        {
          "output_type": "stream",
          "text": [
            "/usr/local/lib/python3.7/dist-packages/sklearn/linear_model/_sag.py:330: ConvergenceWarning: The max_iter was reached which means the coef_ did not converge\n",
            "  \"the coef_ did not converge\", ConvergenceWarning)\n"
          ],
          "name": "stderr"
        }
      ]
    },
    {
      "cell_type": "code",
      "metadata": {
        "colab": {
          "base_uri": "https://localhost:8080/"
        },
        "id": "s4FYr5zevJmj",
        "outputId": "2619867b-1f25-4875-b5dd-04802cd1f09b"
      },
      "source": [
        "yprediction=clf.predict(Xtestscaled)\n",
        "accuracy=accuracy_score(Ytest,yprediction)\n",
        "print(accuracy)"
      ],
      "execution_count": 13,
      "outputs": [
        {
          "output_type": "stream",
          "text": [
            "0.9952\n"
          ],
          "name": "stdout"
        }
      ]
    },
    {
      "cell_type": "code",
      "metadata": {
        "colab": {
          "base_uri": "https://localhost:8080/",
          "height": 606
        },
        "id": "hRr0CTtTCQ3C",
        "outputId": "991fcd10-43e8-4188-f5da-02a6a88a5879"
      },
      "source": [
        "cm = pd.crosstab(Ytest, yprediction, rownames=['Actuals'], colnames=['Predicted'])\n",
        "p = plt.figure(figsize=(10,10))\n",
        "p = sns.heatmap(cm, annot=True, fmt=\"d\", cbar=False)"
      ],
      "execution_count": 15,
      "outputs": [
        {
          "output_type": "display_data",
          "data": {
            "image/png": "[encoded data removed]",
            "text/plain": [
              "<Figure size 720x720 with 1 Axes>"
            ]
          },
          "metadata": {
            "tags": [],
            "needs_background": "light"
          }
        }
      ]
    }
  ]
}